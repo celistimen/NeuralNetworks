{
 "cells": [
  {
   "cell_type": "markdown",
   "metadata": {},
   "source": [
    "## Neural networks practice\n",
    "\n",
    "TODO: \n",
    "- Multilayer network\n",
    "- Add generalization\n",
    "- Additional layer at the end without activation function"
   ]
  },
  {
   "cell_type": "code",
   "execution_count": 5,
   "metadata": {},
   "outputs": [],
   "source": [
    "import numpy as np\n",
    "import pandas as pd\n",
    "import random\n",
    "import matplotlib.pyplot as plt\n",
    "from sklearn.model_selection import train_test_split\n",
    "import math"
   ]
  },
  {
   "cell_type": "code",
   "execution_count": 6,
   "metadata": {},
   "outputs": [],
   "source": [
    "# Auxilliary functions\n",
    "def plotresult(X, Y, color_true = \"blue\", color_false = \"red\"):\n",
    "    indices1 = np.where(Y==1)[0]\n",
    "    indices0 = np.where(Y==0)[0]\n",
    "    plt.scatter(X[indices1,0], X[indices1,1], color = color_true)\n",
    "    plt.scatter(X[indices0,0], X[indices0,1], color = color_false)\n",
    "    \n",
    "def plotresult2(X, Y):\n",
    "    indices1 = np.where(Y==1)[0]\n",
    "    indices0 = np.where(Y==0)[0]\n",
    "    plt.scatter(X[:,0], X[:,1], c= Y) \n",
    "    \n",
    "def compare(a, b):\n",
    "    for i,j in zip(a,b):\n",
    "        print(i,   \"  =>  \" , j)\n",
    "    "
   ]
  },
  {
   "cell_type": "markdown",
   "metadata": {},
   "source": [
    "#### Define activation functions\n"
   ]
  },
  {
   "cell_type": "code",
   "execution_count": 7,
   "metadata": {},
   "outputs": [
    {
     "name": "stdout",
     "output_type": "stream",
     "text": [
      "Relu function + first derivative\n"
     ]
    },
    {
     "data": {
      "image/png": "[encoded data removed]",
      "text/plain": [
       "<Figure size 432x288 with 1 Axes>"
      ]
     },
     "metadata": {
      "needs_background": "light"
     },
     "output_type": "display_data"
    }
   ],
   "source": [
    "\n",
    "def sigmoid(x):\n",
    "    return 1 / (1 + math.exp(-x))\n",
    "\n",
    "def sigmoid_d(x):\n",
    "    return sigmoid(x) * (1-sigmoid(x))\n",
    "        \n",
    "def relu(x):\n",
    "    result =  x if x > 0 else 0\n",
    "    return result\n",
    "\n",
    "def relu_d(x):\n",
    "    result = 1 if x >= 0 else 0\n",
    "    return result\n",
    "\n",
    "# Takes ints and np arrays from all dimensions\n",
    "def callOnArray(x, function):    \n",
    "    if (isinstance(x, np.ndarray)):\n",
    "        if (x.ndim == 1):\n",
    "            return np.array(list(map(function,x)))\n",
    "        else:\n",
    "            return np.array([callOnArray(ai, function) for ai in x]) # if it has multiple dimensions\n",
    "    if isinstance(x, int):\n",
    "        return function(x)\n",
    "\n",
    "    \n",
    "x = np.linspace(-5,5,50)\n",
    "y= callOnArray(x, relu)\n",
    "plt.plot(x,y)\n",
    "y_d = callOnArray(x, relu_d)\n",
    "plt.plot(x,y_d)\n",
    "y_s= callOnArray(x, sigmoid)\n",
    "plt.plot(x,y_s)\n",
    "y_s_d = callOnArray(x, sigmoid_d)\n",
    "plt.plot(x,y_s_d) \n"
   ]
  },
  {
   "cell_type": "markdown",
   "metadata": {},
   "source": [
    "#### Test how multiplications work with numpy"
   ]
  },
  {
   "cell_type": "code",
   "execution_count": 141,
   "metadata": {},
   "outputs": [
    {
     "data": {
      "text/plain": [
       "array([[36, 36],\n",
       "       [45, 45]])"
      ]
     },
     "execution_count": 141,
     "metadata": {},
     "output_type": "execute_result"
    }
   ],
   "source": [
    "d_cost_d_a = np.array([[1,2,3],[1,2,4]]) # dc_da \n",
    "d_a_d_z = np.array([[1,2,3]])   # da_dz\n",
    "\n",
    "d_cost_d_z = d_cost_d_a * d_a_d_z\n",
    "x =  np.array([[1,1],[2,2],[3,3]])\n",
    "\n",
    "d = np.array( [delta*p for n in d_cost_d_z for delta, p in zip(n,x) ])\n",
    "d = np.sum(d.reshape(len(d_cost_d_a),len(x),len(x[0])), axis = 1) # aantal neurons (len(self.weights, aantal datapoints, aantal dimensies \n",
    "d"
   ]
  },
  {
   "cell_type": "markdown",
   "metadata": {},
   "source": [
    "#### The building blocks for a neural net"
   ]
  },
  {
   "cell_type": "code",
   "execution_count": 247,
   "metadata": {},
   "outputs": [],
   "source": [
    "class NeuralNet:\n",
    "    def __init__(self, hidden = [5], input = 2, activationFunction = relu, activationFunctionD = relu_d):\n",
    "#        layers = \n",
    "        self.activationFunction = activationFunction\n",
    "        self.activationFunctionD = activationFunctionD\n",
    "        self.weights = np.random.rand(hidden)*2 -1\n",
    "        self.biases = np.random.rand(hiden)*2-1\n",
    "    \n",
    "class Layer:\n",
    "    def __init__(self, input_size, neurons, learning_rate = 0.2, activationFunction = sigmoid, activationFunctionD = sigmoid_d):\n",
    "        self.learning_rate = learning_rate\n",
    "        self.input_size = input_size\n",
    "        self.neurons = neurons\n",
    "        self.weights = np.random.rand(neurons, input_size)*2 -1\n",
    "        self.biases = np.array([np.random.rand(neurons)]).T *2 -1 # make the array in an array a column vector\n",
    "        \n",
    "        self.activationFunction = activationFunction\n",
    "        self.activationFunctionD = activationFunctionD\n",
    "        \n",
    "    def calc(self, x):\n",
    "        assert(len(x[0]) == self.weights.shape[1])         \n",
    "        result = callOnArray(np.dot(self.weights, x.T) + self.biases, self.activationFunction)\n",
    "        return result\n",
    "    \n",
    "    def cost(self, x, y):\n",
    "        y_pred = self.calc(x)\n",
    "        return (y_pred - y) * ( y_pred - y)\n",
    "        \n",
    "    \n",
    "    def learn(self, x, y):\n",
    "        assert(len(x)>0)\n",
    "        y_pred = self.calc(x)\n",
    "        d_cost_d_a = y_pred - y # delta cost over delta activation\n",
    "        d_a_d_z = callOnArray(np.dot(self.weights, x.T) + self.biases, self.activationFunctionD)\n",
    "                \n",
    "        d_cost_d_z = -d_cost_d_a * d_a_d_z        \n",
    "        \n",
    "        d_w = np.array( [delta*p for n in d_cost_d_z for delta, p in zip(n,x) ])\n",
    "        delta_weights = np.sum(d_w.reshape(self.neurons,len(x),len(x[0])), axis = 1) * self.learning_rate # aantal neurons (len(self.weights, aantal datapoints, aantal dimensies \n",
    "        \n",
    "        delta_biases = np.sum(d_cost_d_z.reshape(self.neurons,len(x),1), axis = 1) * self.learning_rate\n",
    "        \n",
    "        #debugging:\n",
    "#         print(\"delta w en b:\")\n",
    "#         print(delta_weights)\n",
    "#         print(delta_biases)        \n",
    "        \n",
    "        self.weights += delta_weights\n",
    "        self.biases  += delta_biases        \n",
    "        return\n",
    "    \n",
    "    # For debugging purposes, prints weights and biases\n",
    "    def show(self):\n",
    "        string = \"\"\n",
    "        biases = \" \"        \n",
    "        for i in range(self.neurons):\n",
    "            string +=\"[ \"            \n",
    "            for w in self.weights[i]:\n",
    "                string+= \"{0:4f} \".format(w)\n",
    "                biases += \"     \"\n",
    "            string += \"]    \"\n",
    "            biases += \"{0:4f}       \".format(self.biases[i][0])\n",
    "        print(string)\n",
    "        print(biases)    \n",
    "        \n",
    "        "
   ]
  },
  {
   "cell_type": "markdown",
   "metadata": {},
   "source": [
    "#### Make a test setup\n",
    "\n",
    "Everything above the diagonal is 1 (yellow) \\\n",
    "Everything below is 0"
   ]
  },
  {
   "cell_type": "code",
   "execution_count": 243,
   "metadata": {},
   "outputs": [
    {
     "data": {
      "image/png": "[encoded data removed]",
      "text/plain": [
       "<Figure size 432x288 with 1 Axes>"
      ]
     },
     "metadata": {
      "needs_background": "light"
     },
     "output_type": "display_data"
    }
   ],
   "source": [
    "# perceptron = NeuralNet()\n",
    "n = 10\n",
    "X = np.zeros((n*n,2))\n",
    "Y = np.zeros(n*n)\n",
    "for i in range(n):\n",
    "    for j in range(n):\n",
    "        index = i*n + j\n",
    "        X[index] = np.array([i * 0.2-1, j * 0.2 - 1])\n",
    "        #Y[index] = X[index][0] + X[index][1] # output is simply y + x  #smooth transition instead of abrupt\n",
    "        Y[index] = 1 if X[index][0] + X[index][1] >= 0 else 0 #output is 1 on the right side of the diagonal, 0 on th left side\n",
    "plt.scatter(X[:,0], X[:,1])\n",
    "\n",
    "X_train, X_test, y_train, y_test = train_test_split( X, Y, test_size=0.33, random_state=42)\n",
    "# This is what a perfect classification looks like\n",
    "plotresult2(X,Y)"
   ]
  },
  {
   "cell_type": "markdown",
   "metadata": {},
   "source": [
    "#### Test the single layer"
   ]
  },
  {
   "cell_type": "code",
   "execution_count": 256,
   "metadata": {},
   "outputs": [],
   "source": [
    "layer = Layer(2,1)\n",
    "\n",
    "X_train2 = np.array([[1,1],[-1,-1]])\n",
    "y_train2 = np.array([1,0])\n",
    "\n",
    "# y_pred = layer.calc(X_train)[0]\n",
    "\n",
    "train_cost = []\n",
    "test_cost = []\n",
    "for i in range(100):      \n",
    "    cost= layer.cost(X_train, y_train)[0].mean()\n",
    "    train_cost.append(cost)\n",
    "    cost2= layer.cost(X_test, y_test)[0].mean()\n",
    "    test_cost.append(cost2)\n",
    "    y_pred = layer.calc(X_train)[0]\n",
    "    #fig = plt.subplots()  \n",
    "    #plotresult2(X_train, y_pred)\n",
    "    layer.learn(X_train, y_train)\n",
    "    \n"
   ]
  },
  {
   "cell_type": "markdown",
   "metadata": {},
   "source": [
    "#### The training and test cost"
   ]
  },
  {
   "cell_type": "code",
   "execution_count": 257,
   "metadata": {},
   "outputs": [
    {
     "data": {
      "text/plain": [
       "[<matplotlib.lines.Line2D at 0x1a21671f550>]"
      ]
     },
     "execution_count": 257,
     "metadata": {},
     "output_type": "execute_result"
    },
    {
     "data": {
      "image/png": "[encoded data removed]",
      "text/plain": [
       "<Figure size 432x288 with 1 Axes>"
      ]
     },
     "metadata": {
      "needs_background": "light"
     },
     "output_type": "display_data"
    }
   ],
   "source": [
    "plt.plot(train_cost)\n",
    "plt.plot(test_cost) # orange"
   ]
  },
  {
   "cell_type": "markdown",
   "metadata": {},
   "source": [
    "#### Comparing sigmoid (previous) to relu "
   ]
  },
  {
   "cell_type": "code",
   "execution_count": 258,
   "metadata": {},
   "outputs": [],
   "source": [
    "layer = Layer(2,1, learning_rate = 0.1, activationFunction = relu, activationFunctionD = relu_d)\n",
    "\n",
    "train_cost = []\n",
    "test_cost = []\n",
    "for i in range(100):      \n",
    "    cost= layer.cost(X_train, y_train)[0].mean()\n",
    "    train_cost.append(cost)\n",
    "    cost2= layer.cost(X_test, y_test)[0].mean()\n",
    "    test_cost.append(cost2)\n",
    "    y_pred = layer.calc(X_train)[0]\n",
    "    #fig = plt.subplots()  \n",
    "    #plotresult2(X_train, y_pred)\n",
    "    layer.learn(X_train, y_train)"
   ]
  },
  {
   "cell_type": "code",
   "execution_count": 259,
   "metadata": {},
   "outputs": [
    {
     "data": {
      "text/plain": [
       "[<matplotlib.lines.Line2D at 0x1a21709c5c0>]"
      ]
     },
     "execution_count": 259,
     "metadata": {},
     "output_type": "execute_result"
    },
    {
     "data": {
      "image/png": "[encoded data removed]",
      "text/plain": [
       "<Figure size 432x288 with 1 Axes>"
      ]
     },
     "metadata": {
      "needs_background": "light"
     },
     "output_type": "display_data"
    }
   ],
   "source": [
    "plt.plot(train_cost)\n",
    "plt.plot(test_cost) # orange"
   ]
  },
  {
   "cell_type": "markdown",
   "metadata": {},
   "source": [
    "Because the relu function and the derivative of the relu function are zero for x<0, it is possible for the algorithm to get stuck. If wx + b drops below 0 for all the training data, changes to the weights and biases become impossible and the algorithm no longer learns."
   ]
  },
  {
   "cell_type": "code",
   "execution_count": 254,
   "metadata": {
    "collapsed": true,
    "jupyter": {
     "outputs_hidden": true
    }
   },
   "outputs": [
    {
     "name": "stdout",
     "output_type": "stream",
     "text": [
      "0   =>   1.0\n",
      "0   =>   1.0\n",
      "0   =>   0.0\n",
      "0   =>   1.0\n",
      "0   =>   1.0\n",
      "0   =>   0.0\n",
      "0   =>   0.0\n",
      "0   =>   1.0\n",
      "0   =>   0.0\n",
      "0   =>   0.0\n",
      "0   =>   1.0\n",
      "0   =>   0.0\n",
      "0   =>   1.0\n",
      "0   =>   0.0\n",
      "0   =>   0.0\n",
      "0   =>   0.0\n",
      "0   =>   0.0\n",
      "0   =>   0.0\n",
      "0   =>   0.0\n",
      "0   =>   0.0\n",
      "0   =>   1.0\n",
      "0   =>   0.0\n",
      "0   =>   1.0\n",
      "0   =>   0.0\n",
      "0   =>   1.0\n",
      "0   =>   0.0\n",
      "0   =>   1.0\n",
      "0   =>   1.0\n",
      "0   =>   1.0\n",
      "0   =>   0.0\n",
      "0   =>   0.0\n",
      "0   =>   0.0\n",
      "0   =>   1.0\n",
      "0   =>   1.0\n",
      "0   =>   1.0\n",
      "0   =>   0.0\n",
      "0   =>   1.0\n",
      "0   =>   1.0\n",
      "0   =>   0.0\n",
      "0   =>   1.0\n",
      "0   =>   1.0\n",
      "0   =>   1.0\n",
      "0   =>   1.0\n",
      "0   =>   1.0\n",
      "0   =>   0.0\n",
      "0   =>   1.0\n",
      "0   =>   1.0\n",
      "0   =>   0.0\n",
      "0   =>   1.0\n",
      "0   =>   1.0\n",
      "0   =>   1.0\n",
      "0   =>   0.0\n",
      "0   =>   0.0\n",
      "0   =>   0.0\n",
      "0   =>   0.0\n",
      "0   =>   0.0\n",
      "0   =>   1.0\n",
      "0   =>   1.0\n",
      "0   =>   1.0\n",
      "0   =>   1.0\n",
      "0   =>   1.0\n",
      "0   =>   0.0\n",
      "0   =>   0.0\n",
      "0   =>   0.0\n",
      "0   =>   0.0\n",
      "0   =>   1.0\n",
      "0   =>   0.0\n"
     ]
    }
   ],
   "source": [
    "compare(layer.calc(X_train)[0], y_train)"
   ]
  },
  {
   "cell_type": "code",
   "execution_count": null,
   "metadata": {},
   "outputs": [],
   "source": []
  },
  {
   "cell_type": "code",
   "execution_count": null,
   "metadata": {},
   "outputs": [],
   "source": []
  }
 ],
 "metadata": {
  "kernelspec": {
   "display_name": "Python 3",
   "language": "python",
   "name": "python3"
  },
  "language_info": {
   "codemirror_mode": {
    "name": "ipython",
    "version": 3
   },
   "file_extension": ".py",
   "mimetype": "text/x-python",
   "name": "python",
   "nbconvert_exporter": "python",
   "pygments_lexer": "ipython3",
   "version": "3.7.3"
  }
 },
 "nbformat": 4,
 "nbformat_minor": 4
}
